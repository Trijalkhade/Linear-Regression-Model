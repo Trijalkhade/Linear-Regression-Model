{
 "cells": [
  {
   "cell_type": "code",
   "execution_count": 1,
   "id": "b1759d8b-3674-4bfc-b50c-ea3b09a98c57",
   "metadata": {},
   "outputs": [],
   "source": [
    "import numpy as np\n",
    "import pandas as pd\n",
    "import random\n",
    "import matplotlib.pyplot as plt\n",
    "import seaborn as sns"
   ]
  },
  {
   "cell_type": "code",
   "execution_count": 2,
   "id": "f888b45f-06ab-455f-a8b1-de6a785071e2",
   "metadata": {},
   "outputs": [],
   "source": [
    "def check_error(e):\n",
    "    if e > 0.99:\n",
    "        return 0.3\n",
    "    elif e > 0.95:\n",
    "        return 0.1\n",
    "    elif e > 0.9:\n",
    "        return 0.05\n",
    "    elif e < 0.1:\n",
    "        return 0.02\n",
    "    elif e < 0.05:\n",
    "        return 0.01\n",
    "    elif e < 0.02:\n",
    "        return 0.002\n",
    "    elif e < 0.01:\n",
    "        return 0.0001\n",
    "    else:\n",
    "        return 0.01\n"
   ]
  },
  {
   "cell_type": "code",
   "execution_count": 3,
   "id": "020b7715-7a89-4397-a2fd-421d140b1d32",
   "metadata": {},
   "outputs": [],
   "source": [
    "def sigmoid(x):\n",
    "    return 1 / (1 + np.exp(-x))"
   ]
  },
  {
   "cell_type": "code",
   "execution_count": 4,
   "id": "7ace34e3-9050-4b1b-868c-3738030acdfa",
   "metadata": {},
   "outputs": [],
   "source": [
    "df = pd.read_csv(\"linear_regression_dataset.csv\", names = [\"x1\", \"x2\", \"y\"])\n",
    "data = df[['x1', 'x2','y']].values\n",
    "\n",
    "epsilon = 1e-15"
   ]
  },
  {
   "cell_type": "code",
   "execution_count": 5,
   "id": "a58d84d0-2a4d-48f3-878b-0f55f8ad76bc",
   "metadata": {
    "scrolled": true
   },
   "outputs": [
    {
     "data": {
      "text/plain": [
       "<Axes: >"
      ]
     },
     "execution_count": 5,
     "metadata": {},
     "output_type": "execute_result"
    },
    {
     "data": {
      "image/png": "[encoded data removed]",
      "text/plain": [
       "<Figure size 640x480 with 2 Axes>"
      ]
     },
     "metadata": {},
     "output_type": "display_data"
    }
   ],
   "source": [
    "sns.heatmap(df[['x1','x2']].corr(), annot=True)"
   ]
  },
  {
   "cell_type": "markdown",
   "id": "5aec06af-e3c3-4a2c-b9d1-2ac6dfee74ca",
   "metadata": {},
   "source": [
    "- No Collinearity in features (x1 and x2 are independently manipulating result)\n",
    "- m1 = sum(xi1 - X1)(yi - y)/sum(xi1 - X1) ** 2\n",
    "- m2 = sum(xi2 - X2)(yi - y)/sum(xi2 - X2) ** 2"
   ]
  },
  {
   "cell_type": "code",
   "execution_count": 6,
   "id": "92383f0a-cf14-4093-befd-5d8791dca41d",
   "metadata": {},
   "outputs": [],
   "source": [
    "x1 = data[:,0]\n",
    "x2 = data[:,1]\n",
    "y = data[:,2]"
   ]
  },
  {
   "cell_type": "code",
   "execution_count": 7,
   "id": "c0326845-faa2-4e46-88b3-cdbc531ca16c",
   "metadata": {},
   "outputs": [],
   "source": [
    "x1_mean = np.mean(x1)\n",
    "x2_mean = np.mean(x2)\n",
    "y_mean = np.mean(y)"
   ]
  },
  {
   "cell_type": "code",
   "execution_count": 8,
   "id": "c82fc913-2caf-4aee-873b-d834a0a733ac",
   "metadata": {},
   "outputs": [],
   "source": [
    "w1 = round(sum((x1 - x1_mean) * (y - y_mean)) / sum((x1 - x1_mean) ** 2),5)\n",
    "w2 = round(sum((x2 - x2_mean) * (y - y_mean)) / sum((x2 - x2_mean) ** 2),5)\n",
    "b = round(y_mean - (w1 * x1_mean + w2 * x2_mean),5)"
   ]
  },
  {
   "cell_type": "code",
   "execution_count": 9,
   "id": "9625741c-62e2-49da-bc01-770cf278ee61",
   "metadata": {},
   "outputs": [
    {
     "data": {
      "text/plain": [
       "(0.3, 0.2, 0.4)"
      ]
     },
     "execution_count": 9,
     "metadata": {},
     "output_type": "execute_result"
    }
   ],
   "source": [
    "w1,w2,b"
   ]
  },
  {
   "cell_type": "code",
   "execution_count": 10,
   "id": "1f8304e9-c0fb-457b-b1f7-2a53647715e5",
   "metadata": {},
   "outputs": [],
   "source": [
    "total_loss, loss = 0.0, 0.0\n",
    "lowest_error = float('inf') \n",
    "best_w1, best_w2 = None, None"
   ]
  },
  {
   "cell_type": "code",
   "execution_count": 11,
   "id": "43d92c74-c0e5-4c8f-b017-fa417665ff12",
   "metadata": {
    "scrolled": true
   },
   "outputs": [
    {
     "name": "stdout",
     "output_type": "stream",
     "text": [
      "Epoch 0 completed. Loss = [0.0]\n",
      "w1 = 0.3,w2 = 0.2\n",
      "\n",
      "--------------------------------------------------\n",
      "\n",
      "Epoch 0 completed. Loss = [0.0]\n",
      "w1 = 0.3,w2 = 0.2\n",
      "\n",
      "--------------------------------------------------\n",
      "\n",
      "Epoch 0 completed. Loss = [0.0]\n",
      "w1 = 0.3,w2 = 0.2\n",
      "\n",
      "--------------------------------------------------\n",
      "\n",
      "Epoch 0 completed. Loss = [0.0]\n",
      "w1 = 0.3,w2 = 0.2\n",
      "\n",
      "--------------------------------------------------\n",
      "\n",
      "Epoch 0 completed. Loss = [0.0]\n",
      "w1 = 0.3,w2 = 0.2\n",
      "\n",
      "--------------------------------------------------\n",
      "\n"
     ]
    }
   ],
   "source": [
    "for i in range(5):\n",
    "    if i == 0:\n",
    "        pass\n",
    "    else:\n",
    "        w1 = random.uniform(best_w1-0.00001*best_w1,best_w1+0.00001*best_w1)\n",
    "        w2 = random.uniform(best_w2-0.00001*best_w2,best_w2+0.00001*best_w2)\n",
    "\n",
    "    loss_list = []\n",
    "    for epoch in range(1):\n",
    "        initial_lr = 0.01\n",
    "        decay = 0.01\n",
    "        learning_rate = initial_lr / (1 + decay * epoch)\n",
    "        total_loss = 0.0\n",
    "        for x1,x2,result in data:\n",
    "            A = x1*w1 + x2*w2 + b\n",
    "            overall_error = (result - A)\n",
    "            #A = sigmoid(A)\n",
    "            learning_rate = check_error(overall_error)\n",
    "            error = abs(overall_error)\n",
    "            if error < lowest_error:\n",
    "                lowest_error = error\n",
    "                best_w1, best_w2 = w1, w2\n",
    "            \n",
    "            if A != result:\n",
    "                A = np.clip(A,epsilon,1-epsilon)\n",
    "                loss = overall_error ** 2\n",
    "                prev_total_loss = total_loss\n",
    "                total_loss += loss\n",
    "            else:\n",
    "                loss = 0.0\n",
    "                total_loss += loss\n",
    "\n",
    "            dW1 = x1*overall_error\n",
    "            dW2 = x2*overall_error\n",
    "            dB = overall_error\n",
    "            w1 += learning_rate * dW1\n",
    "            w2 += learning_rate * dW2\n",
    "            b += learning_rate * dB\n",
    "        \n",
    "        loss_list.append(round(total_loss,4))\n",
    "        print(f\"Epoch {epoch} completed. Loss = {loss_list}\")\n",
    "        print(f\"w1 = {best_w1},w2 = {best_w2}\")\n",
    "    print(\"\\n\"+\"-\"*50+\"\\n\")"
   ]
  },
  {
   "cell_type": "code",
   "execution_count": 12,
   "id": "97d0db83-d3a7-4ae0-9c09-a2cb7d0e7bb7",
   "metadata": {},
   "outputs": [
    {
     "data": {
      "text/plain": [
       "(8.076101640774879e-08, 1.0383559252424846e-07, 1.1537288058249828e-07)"
      ]
     },
     "execution_count": 12,
     "metadata": {},
     "output_type": "execute_result"
    }
   ],
   "source": [
    "dW1,dW2,dB"
   ]
  },
  {
   "cell_type": "code",
   "execution_count": 13,
   "id": "17771af1-8d8b-424f-975f-d15176b2ecde",
   "metadata": {},
   "outputs": [
    {
     "data": {
      "text/plain": [
       "(0.3, 0.2, 0.399999893959283)"
      ]
     },
     "execution_count": 13,
     "metadata": {},
     "output_type": "execute_result"
    }
   ],
   "source": [
    "best_w1,best_w2,b"
   ]
  },
  {
   "cell_type": "code",
   "execution_count": 14,
   "id": "4c28debd-e8b6-44f5-b549-ab83e45f0643",
   "metadata": {},
   "outputs": [],
   "source": [
    "df = pd.read_csv(\"test_model.csv\")\n",
    "data = df[['x1', 'x2', 'y']].values"
   ]
  },
  {
   "cell_type": "code",
   "execution_count": 15,
   "id": "2f75dc1d-74aa-43c0-b95c-0c93e4cb6ac2",
   "metadata": {},
   "outputs": [],
   "source": [
    "total_diff = 0.0"
   ]
  },
  {
   "cell_type": "code",
   "execution_count": 16,
   "id": "01138d63-e34e-4016-8eee-6f90efea1853",
   "metadata": {},
   "outputs": [
    {
     "name": "stdout",
     "output_type": "stream",
     "text": [
      "Actual = 0.64, Predicted = 0.639999893959283\n",
      "Actual = 0.66, Predicted = 0.659999893959283\n",
      "Actual = 0.68, Predicted = 0.6799998939592831\n",
      "Actual = 0.7, Predicted = 0.699999893959283\n",
      "Actual = 0.72, Predicted = 0.719999893959283\n",
      "Actual = 0.74, Predicted = 0.7399998939592829\n",
      "Actual = 0.76, Predicted = 0.7599998939592829\n",
      "Actual = 0.78, Predicted = 0.7799998939592829\n",
      "Actual = 0.8, Predicted = 0.799999893959283\n",
      "Actual = 0.82, Predicted = 0.819999893959283\n",
      "Actual = 0.67, Predicted = 0.669999893959283\n",
      "Actual = 0.69, Predicted = 0.6899998939592831\n",
      "Actual = 0.71, Predicted = 0.7099998939592831\n",
      "Actual = 0.73, Predicted = 0.729999893959283\n",
      "Actual = 0.75, Predicted = 0.749999893959283\n",
      "Actual = 0.77, Predicted = 0.7699998939592829\n",
      "Actual = 0.79, Predicted = 0.7899998939592829\n",
      "Actual = 0.81, Predicted = 0.809999893959283\n",
      "Actual = 0.83, Predicted = 0.829999893959283\n",
      "Actual = 0.85, Predicted = 0.849999893959283\n",
      "100.00001432517293\n"
     ]
    }
   ],
   "source": [
    "diff = []\n",
    "for x1,x2,y in data:\n",
    "    A = x1*best_w1 + x2*best_w2 + b\n",
    "    diff.append(y / A *100)\n",
    "    print(f\"Actual = {y}, Predicted = {A}\")\n",
    "total_diff = np.mean(np.abs(diff))\n",
    "print(total_diff)"
   ]
  },
  {
   "cell_type": "code",
   "execution_count": null,
   "id": "4bc0919e-40e0-4e01-b8ab-a044dd51b05a",
   "metadata": {},
   "outputs": [],
   "source": []
  },
  {
   "cell_type": "code",
   "execution_count": null,
   "id": "f3aa889c-ba3c-436d-8e2d-af75b469d9c2",
   "metadata": {},
   "outputs": [],
   "source": []
  }
 ],
 "metadata": {
  "kernelspec": {
   "display_name": "Python 3 (ipykernel)",
   "language": "python",
   "name": "python3"
  },
  "language_info": {
   "codemirror_mode": {
    "name": "ipython",
    "version": 3
   },
   "file_extension": ".py",
   "mimetype": "text/x-python",
   "name": "python",
   "nbconvert_exporter": "python",
   "pygments_lexer": "ipython3",
   "version": "3.12.7"
  }
 },
 "nbformat": 4,
 "nbformat_minor": 5
}
